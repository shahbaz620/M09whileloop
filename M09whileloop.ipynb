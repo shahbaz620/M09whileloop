{
 "cells": [
  {
   "cell_type": "code",
   "execution_count": 1,
   "id": "50765213-8498-4219-b12a-8fc8a0deaa7c",
   "metadata": {},
   "outputs": [
    {
     "name": "stdout",
     "output_type": "stream",
     "text": [
      "1\n",
      "2\n",
      "3\n",
      "4\n",
      "5\n",
      "6\n",
      "7\n",
      "8\n",
      "9\n",
      "10\n"
     ]
    }
   ],
   "source": [
    "a= 1\n",
    "while a<=10:\n",
    "    print(a)\n",
    "    a = a+1"
   ]
  },
  {
   "cell_type": "code",
   "execution_count": 2,
   "id": "0d070a75-c668-4b0a-9f39-76fe15c16565",
   "metadata": {},
   "outputs": [],
   "source": [
    "#sum of the number till some point "
   ]
  },
  {
   "cell_type": "code",
   "execution_count": 3,
   "id": "b12aeb74-ba04-42ca-bd64-478e34c75c30",
   "metadata": {},
   "outputs": [
    {
     "name": "stdin",
     "output_type": "stream",
     "text": [
      "enter your limit 5\n"
     ]
    },
    {
     "data": {
      "text/plain": [
       "15"
      ]
     },
     "execution_count": 3,
     "metadata": {},
     "output_type": "execute_result"
    }
   ],
   "source": [
    "n = int(input('enter your limit'))\n",
    "starting_point = 0\n",
    "counter =1\n",
    "while counter <= n :\n",
    "    starting_point = starting_point + counter \n",
    "    counter = counter +1\n",
    "starting_point"
   ]
  },
  {
   "cell_type": "code",
   "execution_count": 4,
   "id": "ff0e148a-a4a2-4156-8378-5a2cbbf9781a",
   "metadata": {},
   "outputs": [
    {
     "name": "stdin",
     "output_type": "stream",
     "text": [
      "enter your number  3\n"
     ]
    },
    {
     "data": {
      "text/plain": [
       "6"
      ]
     },
     "execution_count": 4,
     "metadata": {},
     "output_type": "execute_result"
    }
   ],
   "source": [
    "number = int ( input('enter your number '))\n",
    "factorial =1\n",
    "while number >0:\n",
    "    factorial = factorial *number \n",
    "    number = number -1\n",
    "factorial"
   ]
  },
  {
   "cell_type": "code",
   "execution_count": 1,
   "id": "5c613c04-d7cb-408b-8998-2c049236049a",
   "metadata": {},
   "outputs": [
    {
     "name": "stdin",
     "output_type": "stream",
     "text": [
      "enter your number  5\n"
     ]
    },
    {
     "data": {
      "text/plain": [
       "120"
      ]
     },
     "execution_count": 1,
     "metadata": {},
     "output_type": "execute_result"
    }
   ],
   "source": [
    "number = int ( input('enter your number '))\n",
    "factorial =1\n",
    "while number >0:\n",
    "    factorial = factorial *number \n",
    "    number = number -1\n",
    "factorial"
   ]
  },
  {
   "cell_type": "code",
   "execution_count": 2,
   "id": "56946ed5-57b2-4bb0-bd0f-d1198d15cfdd",
   "metadata": {},
   "outputs": [],
   "source": [
    "#finonacci series "
   ]
  },
  {
   "cell_type": "code",
   "execution_count": 4,
   "id": "9e722425-4892-41f4-ba6c-9d36cf524ed9",
   "metadata": {},
   "outputs": [
    {
     "name": "stdin",
     "output_type": "stream",
     "text": [
      "enter the the of element you are looking for  10\n"
     ]
    },
    {
     "name": "stdout",
     "output_type": "stream",
     "text": [
      "0\n",
      "1\n",
      "1\n",
      "2\n",
      "3\n",
      "5\n",
      "8\n",
      "13\n",
      "21\n",
      "34\n"
     ]
    }
   ],
   "source": [
    "number = int(input(\"enter the the of element you are looking for \"))\n",
    "a , b = 0 ,1 \n",
    "counter = 0\n",
    "while counter <number :\n",
    "             print (a)\n",
    "             c = a+b \n",
    "             a=b\n",
    "             b=c\n",
    "             counter = counter +1"
   ]
  },
  {
   "cell_type": "code",
   "execution_count": 6,
   "id": "723c96a3-7f41-4108-8b5a-3d851af30959",
   "metadata": {},
   "outputs": [
    {
     "name": "stdin",
     "output_type": "stream",
     "text": [
      "enter the the of element you are looking for  20\n"
     ]
    },
    {
     "name": "stdout",
     "output_type": "stream",
     "text": [
      "0\n",
      "1\n",
      "1\n",
      "2\n",
      "3\n",
      "5\n",
      "8\n",
      "13\n",
      "21\n",
      "34\n",
      "55\n",
      "89\n",
      "144\n",
      "233\n",
      "377\n",
      "610\n",
      "987\n",
      "1597\n",
      "2584\n",
      "4181\n"
     ]
    }
   ],
   "source": [
    "number = int(input(\"enter the the of element you are looking for \"))\n",
    "a , b = 0 ,1 \n",
    "counter = 0\n",
    "while counter <number :\n",
    "             print (a)\n",
    "             c = a+b \n",
    "             a=b\n",
    "             b=c\n",
    "             counter = counter +1"
   ]
  },
  {
   "cell_type": "code",
   "execution_count": 8,
   "id": "660a00ac-cf16-48c7-ada5-c70355be192b",
   "metadata": {},
   "outputs": [
    {
     "name": "stdout",
     "output_type": "stream",
     "text": [
      "0\n",
      "1\n",
      "1\n",
      "2\n",
      "3\n",
      "5\n",
      "8\n",
      "13\n",
      "21\n",
      "34\n"
     ]
    }
   ],
   "source": [
    "a , b = 0,1\n",
    "for i in range(10):\n",
    "    print(a)\n",
    "    c=a+b \n",
    "    a=b \n",
    "    b=c\n"
   ]
  },
  {
   "cell_type": "code",
   "execution_count": 9,
   "id": "8efef5ce-0c1c-45d3-98e6-81dc1ed8c4ee",
   "metadata": {},
   "outputs": [],
   "source": [
    "s = 'shah'"
   ]
  },
  {
   "cell_type": "code",
   "execution_count": 10,
   "id": "94d2db08-678a-4311-8233-91a2c5a5c878",
   "metadata": {},
   "outputs": [
    {
     "data": {
      "text/plain": [
       "'hahs'"
      ]
     },
     "execution_count": 10,
     "metadata": {},
     "output_type": "execute_result"
    }
   ],
   "source": [
    "s[::-1]"
   ]
  },
  {
   "cell_type": "code",
   "execution_count": 12,
   "id": "3e670c31-4bd7-4101-b9f6-02d047f47d2d",
   "metadata": {},
   "outputs": [
    {
     "data": {
      "text/plain": [
       "4"
      ]
     },
     "execution_count": 12,
     "metadata": {},
     "output_type": "execute_result"
    }
   ],
   "source": [
    "len(s)"
   ]
  },
  {
   "cell_type": "code",
   "execution_count": 13,
   "id": "ee20ab1b-4f1f-421f-bbdc-37a03f0b98dd",
   "metadata": {},
   "outputs": [
    {
     "name": "stdin",
     "output_type": "stream",
     "text": [
      "enter your string for reversal shah\n"
     ]
    }
   ],
   "source": [
    "word = input('enter your string for reversal')"
   ]
  },
  {
   "cell_type": "code",
   "execution_count": 14,
   "id": "06a50654-26b1-4dec-ad1f-e1ce51fd969c",
   "metadata": {},
   "outputs": [
    {
     "data": {
      "text/plain": [
       "4"
      ]
     },
     "execution_count": 14,
     "metadata": {},
     "output_type": "execute_result"
    }
   ],
   "source": [
    "len(word)"
   ]
  },
  {
   "cell_type": "code",
   "execution_count": 15,
   "id": "f8162e5e-a924-490a-b83f-504d2263ece9",
   "metadata": {},
   "outputs": [
    {
     "name": "stdout",
     "output_type": "stream",
     "text": [
      "hahs\n"
     ]
    }
   ],
   "source": [
    "reverse =\"\"\n",
    "length = len(word)\n",
    "while length >0 :\n",
    "    reverse = reverse + word[length -1]\n",
    "    length = length -1\n",
    "print (reverse)"
   ]
  },
  {
   "cell_type": "code",
   "execution_count": 17,
   "id": "75aa0c5a-907b-44cb-b9ec-ea6cf8db85a9",
   "metadata": {},
   "outputs": [
    {
     "name": "stdin",
     "output_type": "stream",
     "text": [
      "enter your string for reversal hozaifa\n"
     ]
    }
   ],
   "source": [
    "word = input('enter your string for reversal')"
   ]
  },
  {
   "cell_type": "code",
   "execution_count": 18,
   "id": "5c48879a-10de-45fe-a8b1-c92ddb0a0225",
   "metadata": {},
   "outputs": [
    {
     "data": {
      "text/plain": [
       "7"
      ]
     },
     "execution_count": 18,
     "metadata": {},
     "output_type": "execute_result"
    }
   ],
   "source": [
    "len(word)"
   ]
  },
  {
   "cell_type": "code",
   "execution_count": 19,
   "id": "00fb4f6a-28ab-496e-84a3-a85640a3b800",
   "metadata": {},
   "outputs": [
    {
     "name": "stdout",
     "output_type": "stream",
     "text": [
      "afiazoh\n"
     ]
    }
   ],
   "source": [
    "reverse =\"\"\n",
    "length = len(word)\n",
    "while length >0 :\n",
    "    reverse = reverse + word[length -1]\n",
    "    length = length -1\n",
    "print (reverse)\n"
   ]
  },
  {
   "cell_type": "code",
   "execution_count": 20,
   "id": "fe390d69-5de4-4599-8916-063d4a7b708e",
   "metadata": {},
   "outputs": [],
   "source": [
    "#print table of number "
   ]
  },
  {
   "cell_type": "code",
   "execution_count": 22,
   "id": "93cbd991-9d6c-41be-8d93-8939a67d982f",
   "metadata": {},
   "outputs": [
    {
     "name": "stdin",
     "output_type": "stream",
     "text": [
      "enter your number 2\n"
     ]
    },
    {
     "name": "stdout",
     "output_type": "stream",
     "text": [
      "2 * 1 = 2\n",
      "2 * 2 = 4\n",
      "2 * 3 = 6\n",
      "2 * 4 = 8\n",
      "2 * 5 = 10\n",
      "2 * 6 = 12\n",
      "2 * 7 = 14\n",
      "2 * 8 = 16\n",
      "2 * 9 = 18\n",
      "2 * 10 = 20\n"
     ]
    }
   ],
   "source": [
    "n = int(input('enter your number'))\n",
    "i = 1\n",
    "while i<= 10:\n",
    "        result = n*i \n",
    "        print (n , '*', i , '=', result)\n",
    "        i = i +1"
   ]
  },
  {
   "cell_type": "code",
   "execution_count": 23,
   "id": "cd6ff929-14f3-4bd8-8478-1c5d67924991",
   "metadata": {},
   "outputs": [
    {
     "name": "stdin",
     "output_type": "stream",
     "text": [
      "enter your number 20\n"
     ]
    },
    {
     "name": "stdout",
     "output_type": "stream",
     "text": [
      "20 * 1 = 20\n",
      "20 * 2 = 40\n",
      "20 * 3 = 60\n",
      "20 * 4 = 80\n",
      "20 * 5 = 100\n",
      "20 * 6 = 120\n",
      "20 * 7 = 140\n",
      "20 * 8 = 160\n",
      "20 * 9 = 180\n",
      "20 * 10 = 200\n"
     ]
    }
   ],
   "source": [
    "n = int(input('enter your number'))\n",
    "i = 1\n",
    "while i<= 10:\n",
    "        result = n*i \n",
    "        print (n , '*', i , '=', result)\n",
    "        i = i +1"
   ]
  },
  {
   "cell_type": "code",
   "execution_count": 1,
   "id": "e45f79a8-b753-4a14-a778-fcec9875a404",
   "metadata": {},
   "outputs": [
    {
     "name": "stdout",
     "output_type": "stream",
     "text": [
      "1\n",
      "2\n",
      "3\n",
      "4\n"
     ]
    }
   ],
   "source": [
    "n = 5 \n",
    "i = 1 \n",
    "while i < n :\n",
    "    print(i)\n",
    "    i = i +1"
   ]
  },
  {
   "cell_type": "code",
   "execution_count": 2,
   "id": "678e13cd-54a6-4660-9a4a-4b2405a6289a",
   "metadata": {},
   "outputs": [
    {
     "name": "stdout",
     "output_type": "stream",
     "text": [
      "1\n",
      "2\n",
      "3\n",
      "4\n",
      "this will be executed once your while will complete it successfullu\n"
     ]
    }
   ],
   "source": [
    "n = 5 \n",
    "i = 1 \n",
    "while i < n :\n",
    "    print(i)\n",
    "    i = i +1\n",
    "else :\n",
    "    print('this will be executed once your while will complete it successfullu')"
   ]
  },
  {
   "cell_type": "code",
   "execution_count": 6,
   "id": "76f06aa7-df2d-4a2f-90d7-d4e2e0c07a60",
   "metadata": {},
   "outputs": [
    {
     "name": "stdout",
     "output_type": "stream",
     "text": [
      "1\n",
      "2\n",
      "3\n"
     ]
    }
   ],
   "source": [
    "n = 5 \n",
    "i = 1 \n",
    "while i < n :\n",
    "    print(i)\n",
    "    if i == 3:\n",
    "         break \n",
    "    i = i +1\n",
    "else :\n",
    "    print('this will be executed once your while will complete it successfullu')"
   ]
  },
  {
   "cell_type": "code",
   "execution_count": null,
   "id": "12686912-ea3c-4b6c-9f46-60d56c6c6f16",
   "metadata": {},
   "outputs": [],
   "source": []
  }
 ],
 "metadata": {
  "kernelspec": {
   "display_name": "Python 3 (ipykernel)",
   "language": "python",
   "name": "python3"
  },
  "language_info": {
   "codemirror_mode": {
    "name": "ipython",
    "version": 3
   },
   "file_extension": ".py",
   "mimetype": "text/x-python",
   "name": "python",
   "nbconvert_exporter": "python",
   "pygments_lexer": "ipython3",
   "version": "3.10.8"
  }
 },
 "nbformat": 4,
 "nbformat_minor": 5
}
